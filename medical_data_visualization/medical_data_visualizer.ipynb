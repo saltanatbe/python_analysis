{
 "cells": [
  {
   "cell_type": "code",
   "execution_count": 1,
   "id": "b304816d",
   "metadata": {},
   "outputs": [],
   "source": [
    "import pandas as pd\n",
    "import seaborn as sns\n",
    "import matplotlib.pyplot as plt\n",
    "import numpy as np"
   ]
  },
  {
   "cell_type": "code",
   "execution_count": null,
   "id": "e0bd9e29",
   "metadata": {},
   "outputs": [],
   "source": [
    "df = pd.read_csv(\"medical_examination.csv\")\n",
    "df.head(10)"
   ]
  },
  {
   "cell_type": "code",
   "execution_count": null,
   "id": "b0ec1a45",
   "metadata": {},
   "outputs": [],
   "source": [
    "df['overweight'] = np.where(df['weight']/(df['height']/100)**2>25, 1, 0)\n",
    "# df[df['overweight']==1].count()\n",
    "df"
   ]
  },
  {
   "cell_type": "code",
   "execution_count": null,
   "id": "9db8c44f",
   "metadata": {},
   "outputs": [],
   "source": [
    "df['cholesterol'] = (df['cholesterol'] > 1) * 1\n",
    "df['gluc'] = np.where(df['gluc'].values > 1, 1, 0)\n",
    "df.head(10)"
   ]
  },
  {
   "cell_type": "code",
   "execution_count": null,
   "id": "20d930a3",
   "metadata": {},
   "outputs": [],
   "source": [
    "def draw_cat_plot():\n",
    "    # Create DataFrame for cat plot using `pd.melt` using just the values from 'cholesterol', 'gluc', 'smoke', 'alco', 'active', and 'overweight'.\n",
    "    df_cat = pd.melt(df, value_vars=['cholesterol', 'gluc', 'smoke', 'alco', 'active'])\n",
    "\n",
    "\n",
    "    # Group and reformat the data to split it by 'cardio'. Show the counts of each feature. You will have to rename one of the columns for the catplot to work correctly.\n",
    "    df_cat = None\n",
    "    \n",
    "\n",
    "    # Draw the catplot with 'sns.catplot()'\n",
    "\n",
    "\n",
    "\n",
    "    # Get the figure for the output\n",
    "    fig = None\n",
    "\n",
    "\n",
    "    # Do not modify the next two lines\n",
    "    fig.savefig('catplot.png')\n",
    "    return fig"
   ]
  },
  {
   "cell_type": "code",
   "execution_count": null,
   "id": "cf647e58",
   "metadata": {},
   "outputs": [],
   "source": [
    "# Create DataFrame for cat plot using `pd.melt` using just the values from 'cholesterol', 'gluc', 'smoke', 'alco', 'active', and 'overweight'.\n",
    "\n",
    "df_cat = df.melt(value_vars=['cholesterol', 'gluc', 'smoke', 'alco', 'active', 'overweight'], id_vars=['cardio'])\n",
    "df_cat"
   ]
  },
  {
   "cell_type": "code",
   "execution_count": null,
   "id": "281ff167",
   "metadata": {},
   "outputs": [],
   "source": [
    "df_cat = df.melt(value_vars=['cholesterol', 'gluc', 'smoke', 'alco', 'active', 'overweight'], id_vars=['cardio'])\n",
    "\n",
    "# Group and reformat the data to split it by 'cardio'. Show the counts of each feature. You will have to rename one of the columns for the catplot to work correctly.\n",
    "df_cat = df_cat.groupby(['cardio','variable', 'value'])['cardio'].count().reset_index(name='total')\n",
    "df_cat"
   ]
  },
  {
   "cell_type": "code",
   "execution_count": null,
   "id": "ccca5fd4",
   "metadata": {},
   "outputs": [],
   "source": [
    "# Draw the catplot with 'sns.catplot()'\n",
    "graph = sns.catplot(data=df_cat, kind=\"bar\", y=\"total\", col=\"cardio\", x=\"variable\", hue=\"value\",  palette=\"dark\", height=4, aspect=1.5 )\n",
    "graph"
   ]
  },
  {
   "cell_type": "code",
   "execution_count": null,
   "id": "96b75ab0",
   "metadata": {},
   "outputs": [],
   "source": [
    "# Get the figure for the output\n",
    "\n",
    "fig = graph.axes[0][0].get_figure()\n",
    "fig.savefig('catplot.png')\n",
    "fig"
   ]
  },
  {
   "cell_type": "code",
   "execution_count": null,
   "id": "523b4333",
   "metadata": {},
   "outputs": [],
   "source": [
    "#cleaning data\n",
    "#diastolic pressure is higher than systolic \n",
    "pressure_filter = df['ap_lo'] <= df['ap_hi']\n",
    "#height is less than the 2.5th percentile\n",
    "height_filter = df['height'] >= df['height'].quantile(0.025)\n",
    "#height is more than the 97.5th percentile\n",
    "height_filter2 = df['height'] <= df['height'].quantile(0.975)\n",
    "# weight is less than the 2.5th percentile\n",
    "weight_filter = df['weight'] >= df['weight'].quantile(0.025)\n",
    "# weight is more than the 97.5th percentile\n",
    "weight_filter2 = df['weight'] <= df['weight'].quantile(0.975)\n",
    "\n",
    "df_heat = df[pressure_filter & height_filter & height_filter2 & weight_filter & weight_filter2]\n",
    "# df_heat = df_heat[df_heat['height'] >= df_heat['height'].quantile(0.025)]\n",
    "df_heat"
   ]
  },
  {
   "cell_type": "code",
   "execution_count": null,
   "id": "05346e23",
   "metadata": {},
   "outputs": [],
   "source": [
    "corr = df_heat.corr().round(1)\n",
    "corr"
   ]
  },
  {
   "cell_type": "code",
   "execution_count": null,
   "id": "7e1b970a",
   "metadata": {},
   "outputs": [],
   "source": [
    " # Generate a mask for the upper triangle\n",
    "mask = np.triu(np.ones_like(corr))"
   ]
  },
  {
   "cell_type": "code",
   "execution_count": null,
   "id": "b80128fe",
   "metadata": {},
   "outputs": [],
   "source": [
    "#  Set up the matplotlib figure\n",
    "fig, ax = plt.subplots(figsize=(11, 9))\n",
    "\n",
    "# Draw the heatmap with 'sns.heatmap()'\n",
    "sns.heatmap(corr, mask=mask, annot=True, fmt=\".1f\", ax=ax)"
   ]
  },
  {
   "cell_type": "code",
   "execution_count": null,
   "id": "4efd842a",
   "metadata": {},
   "outputs": [],
   "source": [
    "fig.savefig('heatmap.png')"
   ]
  },
  {
   "cell_type": "code",
   "execution_count": null,
   "id": "38383255",
   "metadata": {},
   "outputs": [],
   "source": []
  }
 ],
 "metadata": {
  "kernelspec": {
   "display_name": "Python 3 (ipykernel)",
   "language": "python",
   "name": "python3"
  },
  "language_info": {
   "codemirror_mode": {
    "name": "ipython",
    "version": 3
   },
   "file_extension": ".py",
   "mimetype": "text/x-python",
   "name": "python",
   "nbconvert_exporter": "python",
   "pygments_lexer": "ipython3",
   "version": "3.11.1"
  }
 },
 "nbformat": 4,
 "nbformat_minor": 5
}
